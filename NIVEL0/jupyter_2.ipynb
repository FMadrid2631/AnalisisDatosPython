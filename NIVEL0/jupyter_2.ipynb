{
 "cells": [
  {
   "cell_type": "markdown",
   "id": "3cf1fe12",
   "metadata": {},
   "source": [
    "# Analisis de Sentimientos en Español\n",
    "\n",
    "## Utilizando un modelo previamente entrenado con Naive Bayes\n",
    "\n",
    "\n",
    "En este cuaderno se especifica la implementacion de un analisis de sentimientos con un modelo pre-entrenado que utiliza por detras Naive Bayes y TFIDF para el preprocesamiento del texto. Hecho por Elliot Hofman: [REFERENCIA](https://github.com/aylliote/senti-py)\n"
   ]
  },
  {
   "cell_type": "code",
   "execution_count": 5,
   "id": "1ec4a268",
   "metadata": {},
   "outputs": [
    {
     "name": "stdout",
     "output_type": "stream",
     "text": [
      "Collecting sentiment-analysis-spanish\n",
      "  Downloading sentiment_analysis_spanish-0.0.25-py3-none-any.whl (30.0 MB)\n",
      "\u001b[2K     \u001b[90m━━━━━━━━━━━━━━━━━━━━━━━━━━━━━━━━━━━━━━━━\u001b[0m \u001b[32m30.0/30.0 MB\u001b[0m \u001b[31m6.3 MB/s\u001b[0m eta \u001b[36m0:00:00\u001b[0m00:01\u001b[0m00:01\u001b[0m\n",
      "\u001b[?25hInstalling collected packages: sentiment-analysis-spanish\n",
      "Successfully installed sentiment-analysis-spanish-0.0.25\n",
      "\n",
      "\u001b[1m[\u001b[0m\u001b[34;49mnotice\u001b[0m\u001b[1;39;49m]\u001b[0m\u001b[39;49m A new release of pip available: \u001b[0m\u001b[31;49m22.2.2\u001b[0m\u001b[39;49m -> \u001b[0m\u001b[32;49m22.3.1\u001b[0m\n",
      "\u001b[1m[\u001b[0m\u001b[34;49mnotice\u001b[0m\u001b[1;39;49m]\u001b[0m\u001b[39;49m To update, run: \u001b[0m\u001b[32;49mpython3.10 -m pip install --upgrade pip\u001b[0m\n",
      "Note: you may need to restart the kernel to use updated packages.\n"
     ]
    }
   ],
   "source": [
    "%pip install sentiment-analysis-spanish"
   ]
  },
  {
   "cell_type": "code",
   "execution_count": 6,
   "id": "e26f6dfd",
   "metadata": {},
   "outputs": [
    {
     "name": "stderr",
     "output_type": "stream",
     "text": [
      "/opt/homebrew/Cellar/jupyterlab/3.4.8/libexec/lib/python3.10/site-packages/sklearn/base.py:299: UserWarning: Trying to unpickle estimator CountVectorizer from version 0.23.2 when using version 1.2.1. This might lead to breaking code or invalid results. Use at your own risk. For more info please refer to:\n",
      "https://scikit-learn.org/stable/model_persistence.html#security-maintainability-limitations\n",
      "  warnings.warn(\n",
      "/opt/homebrew/Cellar/jupyterlab/3.4.8/libexec/lib/python3.10/site-packages/sklearn/base.py:299: UserWarning: Trying to unpickle estimator MultinomialNB from version 0.23.2 when using version 1.2.1. This might lead to breaking code or invalid results. Use at your own risk. For more info please refer to:\n",
      "https://scikit-learn.org/stable/model_persistence.html#security-maintainability-limitations\n",
      "  warnings.warn(\n"
     ]
    }
   ],
   "source": [
    "# Importar la libreria\n",
    "from sentiment_analysis_spanish import sentiment_analysis\n",
    "\n",
    "# Instanciar el clasificador, esto puede demorar un poco\n",
    "sentiment = sentiment_analysis.SentimentAnalysisSpanish()"
   ]
  },
  {
   "cell_type": "code",
   "execution_count": 7,
   "id": "fa9d5687",
   "metadata": {},
   "outputs": [],
   "source": [
    "x = \"Esta muy buena esa pelicula\"\n",
    "y = \"Que horrible comida!!!\"\n",
    "z = \"Tuve una experiencia netural\""
   ]
  },
  {
   "cell_type": "code",
   "execution_count": 8,
   "id": "7b4fc679",
   "metadata": {},
   "outputs": [
    {
     "data": {
      "text/plain": [
       "0.9479949612434518"
      ]
     },
     "execution_count": 8,
     "metadata": {},
     "output_type": "execute_result"
    }
   ],
   "source": [
    "sentiment.sentiment(x)"
   ]
  },
  {
   "cell_type": "code",
   "execution_count": 9,
   "id": "944c5fbf",
   "metadata": {},
   "outputs": [
    {
     "data": {
      "text/plain": [
       "0.0009285127385591881"
      ]
     },
     "execution_count": 9,
     "metadata": {},
     "output_type": "execute_result"
    }
   ],
   "source": [
    "sentiment.sentiment(y)"
   ]
  },
  {
   "cell_type": "code",
   "execution_count": 10,
   "id": "07f860a9",
   "metadata": {},
   "outputs": [
    {
     "data": {
      "text/plain": [
       "0.20714292719952648"
      ]
     },
     "execution_count": 10,
     "metadata": {},
     "output_type": "execute_result"
    }
   ],
   "source": [
    "sentiment.sentiment(z)"
   ]
  },
  {
   "cell_type": "code",
   "execution_count": null,
   "id": "193d6186",
   "metadata": {},
   "outputs": [],
   "source": []
  }
 ],
 "metadata": {
  "kernelspec": {
   "display_name": "Python 3 (ipykernel)",
   "language": "python",
   "name": "python3"
  },
  "language_info": {
   "codemirror_mode": {
    "name": "ipython",
    "version": 3
   },
   "file_extension": ".py",
   "mimetype": "text/x-python",
   "name": "python",
   "nbconvert_exporter": "python",
   "pygments_lexer": "ipython3",
   "version": "3.10.8"
  }
 },
 "nbformat": 4,
 "nbformat_minor": 5
}
