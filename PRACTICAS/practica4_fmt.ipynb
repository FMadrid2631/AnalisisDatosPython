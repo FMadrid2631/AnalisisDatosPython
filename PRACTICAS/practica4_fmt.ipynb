{
 "cells": [
  {
   "cell_type": "code",
   "execution_count": 1,
   "metadata": {},
   "outputs": [],
   "source": [
    "#Importamos las librerias\n",
    "import pandas as pd\n",
    "import seaborn as sns\n",
    "import matplotlib.pyplot as plt"
   ]
  },
  {
   "cell_type": "code",
   "execution_count": null,
   "metadata": {},
   "outputs": [],
   "source": [
    "df = pd.read_csv('../data/tienda_ventas.csv')\n",
    "df"
   ]
  },
  {
   "cell_type": "code",
   "execution_count": null,
   "metadata": {},
   "outputs": [],
   "source": [
    "# Agrupo por fecha y tienda\n",
    "agrupacion = df[['date', 'store_nbr','sales']].groupby(['date', 'store_nbr']).sum()\n",
    "agrupacion\n"
   ]
  },
  {
   "cell_type": "code",
   "execution_count": null,
   "metadata": {},
   "outputs": [],
   "source": [
    "\n",
    "df['store_nbr'].unique()"
   ]
  },
  {
   "cell_type": "code",
   "execution_count": null,
   "metadata": {},
   "outputs": [],
   "source": [
    "#Cuentos cuantos tengo\n",
    "len(df['store_nbr'].unique())"
   ]
  },
  {
   "cell_type": "code",
   "execution_count": null,
   "metadata": {},
   "outputs": [],
   "source": [
    "df['periodo'] = df['date'].apply(lambda x: x[:7])\n",
    "df"
   ]
  },
  {
   "cell_type": "code",
   "execution_count": null,
   "metadata": {},
   "outputs": [],
   "source": [
    "# Me interesa saber como ha sido historicamente la venta de las tiendas\n",
    "sales_store = df[['store_nbr','sales']].groupby(['store_nbr']).agg({\n",
    "    'sales': 'sum'\n",
    "})\n",
    "sales_store"
   ]
  },
  {
   "cell_type": "code",
   "execution_count": null,
   "metadata": {},
   "outputs": [],
   "source": [
    "sales_store = sales_store.sort_values('sales', ascending=False)\n",
    "sales_store"
   ]
  },
  {
   "cell_type": "code",
   "execution_count": null,
   "metadata": {},
   "outputs": [],
   "source": [
    "df_top5 = sales_store.head(5)\n",
    "df_top5"
   ]
  },
  {
   "cell_type": "code",
   "execution_count": null,
   "metadata": {},
   "outputs": [],
   "source": [
    "\n",
    "# Puedo hacer esto con un .drop() por indices\n",
    "df_otros = sales_store.drop(index=df_top5.index.values)\n",
    "df_otros"
   ]
  },
  {
   "cell_type": "code",
   "execution_count": null,
   "metadata": {},
   "outputs": [],
   "source": [
    "# Pongo el indice como columna en mi dataset\n",
    "df_otros = df_otros.reset_index()\n",
    "df_otros"
   ]
  },
  {
   "cell_type": "code",
   "execution_count": null,
   "metadata": {},
   "outputs": [],
   "source": [
    "#Identifico los registros con sales 0 para quitarlos de la operacion\n",
    "\n",
    "id_drop=[]\n",
    "for index, row in df_otros.iterrows():\n",
    "    if row['sales'] == 0:\n",
    "        id_drop.append(index)\n",
    "print(id_drop)"
   ]
  },
  {
   "cell_type": "code",
   "execution_count": null,
   "metadata": {},
   "outputs": [],
   "source": [
    "# Puedo hacer esto con un .drop() por indices\n",
    "df_otros_final = df_otros.drop(index=id_drop, axis=1)\n",
    "df_otros_final"
   ]
  },
  {
   "cell_type": "code",
   "execution_count": 116,
   "metadata": {},
   "outputs": [],
   "source": [
    "df_top5 = df_top5.reset_index('store_nbr')"
   ]
  },
  {
   "cell_type": "code",
   "execution_count": null,
   "metadata": {},
   "outputs": [],
   "source": [
    "df_top5['store_nbr'].unique()"
   ]
  },
  {
   "cell_type": "code",
   "execution_count": null,
   "metadata": {},
   "outputs": [],
   "source": [
    "# Filtraremos el DataFrame original solo con estas tiendas\n",
    "df_top_5_final = df[df['store_nbr'].isin(df_top5['store_nbr'].unique())]\n",
    "df_top_5_final"
   ]
  },
  {
   "cell_type": "code",
   "execution_count": null,
   "metadata": {},
   "outputs": [],
   "source": [
    "# Me interesa saber como ha sido historicamente la venta de las tiendas\n",
    "df_top_5_final = df_top_5_final.groupby(['store_nbr','periodo']).agg({\n",
    "    'sales': 'sum'\n",
    "})\n",
    "df_top_5_final"
   ]
  },
  {
   "cell_type": "code",
   "execution_count": null,
   "metadata": {},
   "outputs": [],
   "source": [
    "df_top_5_final = df_top_5_final.reset_index()\n",
    "df_top_5_final"
   ]
  },
  {
   "cell_type": "code",
   "execution_count": null,
   "metadata": {},
   "outputs": [],
   "source": [
    "#Graficamos\n",
    "# Veamos graficamente el historico de ventas de estas tiendas...\n",
    "\n",
    "ax = sns.lineplot(\n",
    "    data = df_top_5_final,\n",
    "    x = 'periodo',\n",
    "    y = 'sales',\n",
    "    hue='store_nbr',\n",
    "    style = \"store_nbr\",\n",
    "    markers = True,\n",
    "    palette='Set1' # Cambiando la paleta tampoco arreglamos el problema\n",
    ")\n",
    "\n",
    "# Otra forma de solamente cambiar la rotacion de las etiquetas sin definirlas\n",
    "ax.tick_params(\n",
    "    axis='x', \n",
    "    labelrotation = 90,\n",
    "    labelsize = 8\n",
    ")\n",
    "\n",
    "ax.tick_params(\n",
    "    axis='y', \n",
    "    labelsize = 8\n",
    ")\n",
    "\n",
    "ax.grid(\n",
    "    visible=True,\n",
    "    axis='x',\n",
    "    alpha=0.2\n",
    ")\n",
    "\n",
    "ax.grid(\n",
    "    visible=True,\n",
    "    axis='y',\n",
    "    alpha=0.2\n",
    ")\n",
    "\n",
    "ax.legend(\n",
    "    title='Top 5 tiendas',\n",
    "    bbox_to_anchor=(0, 1), \n",
    "    fontsize=8,\n",
    "    loc='upper left'\n",
    ")\n",
    "\n",
    "ax.set_ylabel('Ventas')\n",
    "ax.set_xlabel('Mes')\n",
    "\n",
    "# Otra forma de cambiar el tamaño de una figura cuando solo partimos de un ax\n",
    "fig = ax.get_figure()\n",
    "fig.set_size_inches(11, 3)"
   ]
  }
 ],
 "metadata": {
  "kernelspec": {
   "display_name": "base",
   "language": "python",
   "name": "python3"
  },
  "language_info": {
   "codemirror_mode": {
    "name": "ipython",
    "version": 3
   },
   "file_extension": ".py",
   "mimetype": "text/x-python",
   "name": "python",
   "nbconvert_exporter": "python",
   "pygments_lexer": "ipython3",
   "version": "3.12.4"
  }
 },
 "nbformat": 4,
 "nbformat_minor": 2
}
